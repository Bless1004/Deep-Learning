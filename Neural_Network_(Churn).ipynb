{
  "nbformat": 4,
  "nbformat_minor": 0,
  "metadata": {
    "colab": {
      "name": "Neural Network (Churn).ipynb",
      "provenance": []
    },
    "kernelspec": {
      "name": "python3",
      "display_name": "Python 3"
    },
    "language_info": {
      "name": "python"
    }
  },
  "cells": [
    {
      "cell_type": "markdown",
      "source": [
        "**Problem statement:** Predict whether the customer is exited from the organization or not."
      ],
      "metadata": {
        "id": "Bx_82VD7GlEp"
      }
    },
    {
      "cell_type": "code",
      "execution_count": 1,
      "metadata": {
        "id": "YIB73XgAFn8p"
      },
      "outputs": [],
      "source": [
        "# Import all the necessary libraries\n",
        "import pandas as pd\n",
        "import numpy as np\n",
        "import matplotlib.pyplot as plt\n",
        "import tensorflow as tf\n",
        "from sklearn.preprocessing import LabelEncoder\n",
        "from sklearn.model_selection import train_test_split\n",
        "from sklearn.metrics import accuracy_score, confusion_matrix"
      ]
    },
    {
      "cell_type": "code",
      "source": [
        "# Load the data\n",
        "data = pd.read_csv('/content/Churn_Modelling.csv')\n",
        "data.head()"
      ],
      "metadata": {
        "colab": {
          "base_uri": "https://localhost:8080/",
          "height": 206
        },
        "id": "XfEIyqJhGPJf",
        "outputId": "5c4f0db8-d184-4ece-9d2b-c2053171c00e"
      },
      "execution_count": 2,
      "outputs": [
        {
          "output_type": "execute_result",
          "data": {
            "text/plain": [
              "   RowNumber  CustomerId   Surname  CreditScore Geography  Gender  Age  \\\n",
              "0          1    15634602  Hargrave          619    France  Female   42   \n",
              "1          2    15647311      Hill          608     Spain  Female   41   \n",
              "2          3    15619304      Onio          502    France  Female   42   \n",
              "3          4    15701354      Boni          699    France  Female   39   \n",
              "4          5    15737888  Mitchell          850     Spain  Female   43   \n",
              "\n",
              "   Tenure    Balance  NumOfProducts  HasCrCard  IsActiveMember  \\\n",
              "0       2       0.00              1          1               1   \n",
              "1       1   83807.86              1          0               1   \n",
              "2       8  159660.80              3          1               0   \n",
              "3       1       0.00              2          0               0   \n",
              "4       2  125510.82              1          1               1   \n",
              "\n",
              "   EstimatedSalary  Exited  \n",
              "0        101348.88       1  \n",
              "1        112542.58       0  \n",
              "2        113931.57       1  \n",
              "3         93826.63       0  \n",
              "4         79084.10       0  "
            ],
            "text/html": [
              "\n",
              "  <div id=\"df-99661cc7-a7a9-42f9-9c32-b806591896a3\">\n",
              "    <div class=\"colab-df-container\">\n",
              "      <div>\n",
              "<style scoped>\n",
              "    .dataframe tbody tr th:only-of-type {\n",
              "        vertical-align: middle;\n",
              "    }\n",
              "\n",
              "    .dataframe tbody tr th {\n",
              "        vertical-align: top;\n",
              "    }\n",
              "\n",
              "    .dataframe thead th {\n",
              "        text-align: right;\n",
              "    }\n",
              "</style>\n",
              "<table border=\"1\" class=\"dataframe\">\n",
              "  <thead>\n",
              "    <tr style=\"text-align: right;\">\n",
              "      <th></th>\n",
              "      <th>RowNumber</th>\n",
              "      <th>CustomerId</th>\n",
              "      <th>Surname</th>\n",
              "      <th>CreditScore</th>\n",
              "      <th>Geography</th>\n",
              "      <th>Gender</th>\n",
              "      <th>Age</th>\n",
              "      <th>Tenure</th>\n",
              "      <th>Balance</th>\n",
              "      <th>NumOfProducts</th>\n",
              "      <th>HasCrCard</th>\n",
              "      <th>IsActiveMember</th>\n",
              "      <th>EstimatedSalary</th>\n",
              "      <th>Exited</th>\n",
              "    </tr>\n",
              "  </thead>\n",
              "  <tbody>\n",
              "    <tr>\n",
              "      <th>0</th>\n",
              "      <td>1</td>\n",
              "      <td>15634602</td>\n",
              "      <td>Hargrave</td>\n",
              "      <td>619</td>\n",
              "      <td>France</td>\n",
              "      <td>Female</td>\n",
              "      <td>42</td>\n",
              "      <td>2</td>\n",
              "      <td>0.00</td>\n",
              "      <td>1</td>\n",
              "      <td>1</td>\n",
              "      <td>1</td>\n",
              "      <td>101348.88</td>\n",
              "      <td>1</td>\n",
              "    </tr>\n",
              "    <tr>\n",
              "      <th>1</th>\n",
              "      <td>2</td>\n",
              "      <td>15647311</td>\n",
              "      <td>Hill</td>\n",
              "      <td>608</td>\n",
              "      <td>Spain</td>\n",
              "      <td>Female</td>\n",
              "      <td>41</td>\n",
              "      <td>1</td>\n",
              "      <td>83807.86</td>\n",
              "      <td>1</td>\n",
              "      <td>0</td>\n",
              "      <td>1</td>\n",
              "      <td>112542.58</td>\n",
              "      <td>0</td>\n",
              "    </tr>\n",
              "    <tr>\n",
              "      <th>2</th>\n",
              "      <td>3</td>\n",
              "      <td>15619304</td>\n",
              "      <td>Onio</td>\n",
              "      <td>502</td>\n",
              "      <td>France</td>\n",
              "      <td>Female</td>\n",
              "      <td>42</td>\n",
              "      <td>8</td>\n",
              "      <td>159660.80</td>\n",
              "      <td>3</td>\n",
              "      <td>1</td>\n",
              "      <td>0</td>\n",
              "      <td>113931.57</td>\n",
              "      <td>1</td>\n",
              "    </tr>\n",
              "    <tr>\n",
              "      <th>3</th>\n",
              "      <td>4</td>\n",
              "      <td>15701354</td>\n",
              "      <td>Boni</td>\n",
              "      <td>699</td>\n",
              "      <td>France</td>\n",
              "      <td>Female</td>\n",
              "      <td>39</td>\n",
              "      <td>1</td>\n",
              "      <td>0.00</td>\n",
              "      <td>2</td>\n",
              "      <td>0</td>\n",
              "      <td>0</td>\n",
              "      <td>93826.63</td>\n",
              "      <td>0</td>\n",
              "    </tr>\n",
              "    <tr>\n",
              "      <th>4</th>\n",
              "      <td>5</td>\n",
              "      <td>15737888</td>\n",
              "      <td>Mitchell</td>\n",
              "      <td>850</td>\n",
              "      <td>Spain</td>\n",
              "      <td>Female</td>\n",
              "      <td>43</td>\n",
              "      <td>2</td>\n",
              "      <td>125510.82</td>\n",
              "      <td>1</td>\n",
              "      <td>1</td>\n",
              "      <td>1</td>\n",
              "      <td>79084.10</td>\n",
              "      <td>0</td>\n",
              "    </tr>\n",
              "  </tbody>\n",
              "</table>\n",
              "</div>\n",
              "      <button class=\"colab-df-convert\" onclick=\"convertToInteractive('df-99661cc7-a7a9-42f9-9c32-b806591896a3')\"\n",
              "              title=\"Convert this dataframe to an interactive table.\"\n",
              "              style=\"display:none;\">\n",
              "        \n",
              "  <svg xmlns=\"http://www.w3.org/2000/svg\" height=\"24px\"viewBox=\"0 0 24 24\"\n",
              "       width=\"24px\">\n",
              "    <path d=\"M0 0h24v24H0V0z\" fill=\"none\"/>\n",
              "    <path d=\"M18.56 5.44l.94 2.06.94-2.06 2.06-.94-2.06-.94-.94-2.06-.94 2.06-2.06.94zm-11 1L8.5 8.5l.94-2.06 2.06-.94-2.06-.94L8.5 2.5l-.94 2.06-2.06.94zm10 10l.94 2.06.94-2.06 2.06-.94-2.06-.94-.94-2.06-.94 2.06-2.06.94z\"/><path d=\"M17.41 7.96l-1.37-1.37c-.4-.4-.92-.59-1.43-.59-.52 0-1.04.2-1.43.59L10.3 9.45l-7.72 7.72c-.78.78-.78 2.05 0 2.83L4 21.41c.39.39.9.59 1.41.59.51 0 1.02-.2 1.41-.59l7.78-7.78 2.81-2.81c.8-.78.8-2.07 0-2.86zM5.41 20L4 18.59l7.72-7.72 1.47 1.35L5.41 20z\"/>\n",
              "  </svg>\n",
              "      </button>\n",
              "      \n",
              "  <style>\n",
              "    .colab-df-container {\n",
              "      display:flex;\n",
              "      flex-wrap:wrap;\n",
              "      gap: 12px;\n",
              "    }\n",
              "\n",
              "    .colab-df-convert {\n",
              "      background-color: #E8F0FE;\n",
              "      border: none;\n",
              "      border-radius: 50%;\n",
              "      cursor: pointer;\n",
              "      display: none;\n",
              "      fill: #1967D2;\n",
              "      height: 32px;\n",
              "      padding: 0 0 0 0;\n",
              "      width: 32px;\n",
              "    }\n",
              "\n",
              "    .colab-df-convert:hover {\n",
              "      background-color: #E2EBFA;\n",
              "      box-shadow: 0px 1px 2px rgba(60, 64, 67, 0.3), 0px 1px 3px 1px rgba(60, 64, 67, 0.15);\n",
              "      fill: #174EA6;\n",
              "    }\n",
              "\n",
              "    [theme=dark] .colab-df-convert {\n",
              "      background-color: #3B4455;\n",
              "      fill: #D2E3FC;\n",
              "    }\n",
              "\n",
              "    [theme=dark] .colab-df-convert:hover {\n",
              "      background-color: #434B5C;\n",
              "      box-shadow: 0px 1px 3px 1px rgba(0, 0, 0, 0.15);\n",
              "      filter: drop-shadow(0px 1px 2px rgba(0, 0, 0, 0.3));\n",
              "      fill: #FFFFFF;\n",
              "    }\n",
              "  </style>\n",
              "\n",
              "      <script>\n",
              "        const buttonEl =\n",
              "          document.querySelector('#df-99661cc7-a7a9-42f9-9c32-b806591896a3 button.colab-df-convert');\n",
              "        buttonEl.style.display =\n",
              "          google.colab.kernel.accessAllowed ? 'block' : 'none';\n",
              "\n",
              "        async function convertToInteractive(key) {\n",
              "          const element = document.querySelector('#df-99661cc7-a7a9-42f9-9c32-b806591896a3');\n",
              "          const dataTable =\n",
              "            await google.colab.kernel.invokeFunction('convertToInteractive',\n",
              "                                                     [key], {});\n",
              "          if (!dataTable) return;\n",
              "\n",
              "          const docLinkHtml = 'Like what you see? Visit the ' +\n",
              "            '<a target=\"_blank\" href=https://colab.research.google.com/notebooks/data_table.ipynb>data table notebook</a>'\n",
              "            + ' to learn more about interactive tables.';\n",
              "          element.innerHTML = '';\n",
              "          dataTable['output_type'] = 'display_data';\n",
              "          await google.colab.output.renderOutput(dataTable, element);\n",
              "          const docLink = document.createElement('div');\n",
              "          docLink.innerHTML = docLinkHtml;\n",
              "          element.appendChild(docLink);\n",
              "        }\n",
              "      </script>\n",
              "    </div>\n",
              "  </div>\n",
              "  "
            ]
          },
          "metadata": {},
          "execution_count": 2
        }
      ]
    },
    {
      "cell_type": "code",
      "source": [
        "# Drop the columns which won't be helpful to make predictions\n",
        "data.drop(['RowNumber', 'CustomerId', 'Surname'], axis = 1, inplace=True)"
      ],
      "metadata": {
        "id": "aja9eyGhGZUs"
      },
      "execution_count": 3,
      "outputs": []
    },
    {
      "cell_type": "code",
      "source": [
        "# Ceck for null values in the dataset\n",
        "data.isna().sum()"
      ],
      "metadata": {
        "colab": {
          "base_uri": "https://localhost:8080/"
        },
        "id": "BuojixH5HIb5",
        "outputId": "f70db73c-5c96-4710-9812-7b6c0743cf46"
      },
      "execution_count": 4,
      "outputs": [
        {
          "output_type": "execute_result",
          "data": {
            "text/plain": [
              "CreditScore        0\n",
              "Geography          0\n",
              "Gender             0\n",
              "Age                0\n",
              "Tenure             0\n",
              "Balance            0\n",
              "NumOfProducts      0\n",
              "HasCrCard          0\n",
              "IsActiveMember     0\n",
              "EstimatedSalary    0\n",
              "Exited             0\n",
              "dtype: int64"
            ]
          },
          "metadata": {},
          "execution_count": 4
        }
      ]
    },
    {
      "cell_type": "code",
      "source": [
        "# Check for object datatypes\n",
        "data.info()"
      ],
      "metadata": {
        "colab": {
          "base_uri": "https://localhost:8080/"
        },
        "id": "CDdbVr9CHU_p",
        "outputId": "0a8b597d-a282-4409-bd81-73a6521f3df3"
      },
      "execution_count": 5,
      "outputs": [
        {
          "output_type": "stream",
          "name": "stdout",
          "text": [
            "<class 'pandas.core.frame.DataFrame'>\n",
            "RangeIndex: 10000 entries, 0 to 9999\n",
            "Data columns (total 11 columns):\n",
            " #   Column           Non-Null Count  Dtype  \n",
            "---  ------           --------------  -----  \n",
            " 0   CreditScore      10000 non-null  int64  \n",
            " 1   Geography        10000 non-null  object \n",
            " 2   Gender           10000 non-null  object \n",
            " 3   Age              10000 non-null  int64  \n",
            " 4   Tenure           10000 non-null  int64  \n",
            " 5   Balance          10000 non-null  float64\n",
            " 6   NumOfProducts    10000 non-null  int64  \n",
            " 7   HasCrCard        10000 non-null  int64  \n",
            " 8   IsActiveMember   10000 non-null  int64  \n",
            " 9   EstimatedSalary  10000 non-null  float64\n",
            " 10  Exited           10000 non-null  int64  \n",
            "dtypes: float64(2), int64(7), object(2)\n",
            "memory usage: 859.5+ KB\n"
          ]
        }
      ]
    },
    {
      "cell_type": "code",
      "source": [
        "# Label Encode object datatypes\n",
        "data_types_dict = dict(data.dtypes)\n",
        "\n",
        "# Keep track mappings column name to LabelEncoders\n",
        "Label_encoder_collection = {}\n",
        "for col_name, data_type in data_types_dict.items():\n",
        "  if data_type == 'object':\n",
        "    Le = LabelEncoder()\n",
        "    data[col_name] = Le.fit_transform(data[col_name])\n",
        "    Label_encoder_collection[col_name] = Le\n",
        "\n",
        "data.info()"
      ],
      "metadata": {
        "colab": {
          "base_uri": "https://localhost:8080/"
        },
        "id": "Mu5R3BHZHd_K",
        "outputId": "ad797222-d2ec-414f-8886-6b82fb418f5c"
      },
      "execution_count": 6,
      "outputs": [
        {
          "output_type": "stream",
          "name": "stdout",
          "text": [
            "<class 'pandas.core.frame.DataFrame'>\n",
            "RangeIndex: 10000 entries, 0 to 9999\n",
            "Data columns (total 11 columns):\n",
            " #   Column           Non-Null Count  Dtype  \n",
            "---  ------           --------------  -----  \n",
            " 0   CreditScore      10000 non-null  int64  \n",
            " 1   Geography        10000 non-null  int64  \n",
            " 2   Gender           10000 non-null  int64  \n",
            " 3   Age              10000 non-null  int64  \n",
            " 4   Tenure           10000 non-null  int64  \n",
            " 5   Balance          10000 non-null  float64\n",
            " 6   NumOfProducts    10000 non-null  int64  \n",
            " 7   HasCrCard        10000 non-null  int64  \n",
            " 8   IsActiveMember   10000 non-null  int64  \n",
            " 9   EstimatedSalary  10000 non-null  float64\n",
            " 10  Exited           10000 non-null  int64  \n",
            "dtypes: float64(2), int64(9)\n",
            "memory usage: 859.5 KB\n"
          ]
        }
      ]
    },
    {
      "cell_type": "code",
      "source": [
        "# Split the data into feature and target variables\n",
        "X = data.iloc[:, :-1].values.astype(np.float32)   # Feature Variables\n",
        "Y = data.iloc[: , -1].values.astype(int)          # Target Variable"
      ],
      "metadata": {
        "id": "pZY7bjw0KJ3I"
      },
      "execution_count": 7,
      "outputs": []
    },
    {
      "cell_type": "code",
      "source": [
        "# Split the data into training and testing sets\n",
        "X_train, X_test, Y_train, Y_test = train_test_split(X, Y, test_size = 0.2, random_state = 4)"
      ],
      "metadata": {
        "id": "CUkTTLHIKwky"
      },
      "execution_count": 8,
      "outputs": []
    },
    {
      "cell_type": "markdown",
      "source": [
        "**Build model without any improvement:**"
      ],
      "metadata": {
        "id": "kKULU3MWCd1u"
      }
    },
    {
      "cell_type": "code",
      "source": [
        "# Create sequential object that will connect all the layers\n",
        "model = tf.keras.models.Sequential()\n",
        "# Add Input layer and specify the dimension, in this case number of columns i.e., 10\n",
        "model.add(tf.keras.Input(shape = (10,)))\n",
        "# Add 1st hidden layer\n",
        "model.add(tf.keras.layers.Dense(32))\n",
        "# Add 2nd hidden layer\n",
        "model.add(tf.keras.layers.Dense(32))\n",
        "# Add Output layer with activation function as Sigmoid as it is a binary classification problem and will use only one neuron to predict\n",
        "model.add(tf.keras.layers.Dense(1, activation = 'sigmoid'))\n",
        "\n",
        "# Print model summary to understand neural network flow\n",
        "model.summary()"
      ],
      "metadata": {
        "colab": {
          "base_uri": "https://localhost:8080/"
        },
        "id": "4svrPTwMLLA9",
        "outputId": "4f9874d4-842b-4221-c05f-a427c58cdc56"
      },
      "execution_count": 9,
      "outputs": [
        {
          "output_type": "stream",
          "name": "stdout",
          "text": [
            "Model: \"sequential\"\n",
            "_________________________________________________________________\n",
            " Layer (type)                Output Shape              Param #   \n",
            "=================================================================\n",
            " dense (Dense)               (None, 32)                352       \n",
            "                                                                 \n",
            " dense_1 (Dense)             (None, 32)                1056      \n",
            "                                                                 \n",
            " dense_2 (Dense)             (None, 1)                 33        \n",
            "                                                                 \n",
            "=================================================================\n",
            "Total params: 1,441\n",
            "Trainable params: 1,441\n",
            "Non-trainable params: 0\n",
            "_________________________________________________________________\n"
          ]
        }
      ]
    },
    {
      "cell_type": "code",
      "source": [
        "# Create Optimizer and compile the model\n",
        "Optimizer = tf.keras.optimizers.Adam(learning_rate = 0.001)\n",
        "model.compile(Optimizer, loss = 'binary_crossentropy', metrics = ['accuracy'])"
      ],
      "metadata": {
        "id": "0NbuQNU-MyPA"
      },
      "execution_count": 10,
      "outputs": []
    },
    {
      "cell_type": "code",
      "source": [
        "# Train the model\n",
        "history =  model.fit(X_train, Y_train, validation_data = (X_test, Y_test), epochs = 20)"
      ],
      "metadata": {
        "colab": {
          "base_uri": "https://localhost:8080/"
        },
        "id": "trSkHfJ1NX3-",
        "outputId": "d01f202f-7ea8-459c-fd04-c1b160c5ab78"
      },
      "execution_count": 11,
      "outputs": [
        {
          "output_type": "stream",
          "name": "stdout",
          "text": [
            "Epoch 1/20\n",
            "250/250 [==============================] - 1s 2ms/step - loss: 717.1056 - accuracy: 0.6609 - val_loss: 186.0246 - val_accuracy: 0.8020\n",
            "Epoch 2/20\n",
            "250/250 [==============================] - 0s 1ms/step - loss: 293.5448 - accuracy: 0.6653 - val_loss: 331.7857 - val_accuracy: 0.8020\n",
            "Epoch 3/20\n",
            "250/250 [==============================] - 0s 2ms/step - loss: 276.0815 - accuracy: 0.6729 - val_loss: 292.1165 - val_accuracy: 0.2640\n",
            "Epoch 4/20\n",
            "250/250 [==============================] - 0s 2ms/step - loss: 233.9246 - accuracy: 0.6725 - val_loss: 282.2797 - val_accuracy: 0.8020\n",
            "Epoch 5/20\n",
            "250/250 [==============================] - 1s 2ms/step - loss: 272.9891 - accuracy: 0.6754 - val_loss: 378.8786 - val_accuracy: 0.4515\n",
            "Epoch 6/20\n",
            "250/250 [==============================] - 1s 3ms/step - loss: 242.2568 - accuracy: 0.6825 - val_loss: 77.1142 - val_accuracy: 0.8015\n",
            "Epoch 7/20\n",
            "250/250 [==============================] - 1s 3ms/step - loss: 229.5750 - accuracy: 0.6730 - val_loss: 85.0559 - val_accuracy: 0.5605\n",
            "Epoch 8/20\n",
            "250/250 [==============================] - 1s 3ms/step - loss: 215.7758 - accuracy: 0.6800 - val_loss: 206.3240 - val_accuracy: 0.5845\n",
            "Epoch 9/20\n",
            "250/250 [==============================] - 1s 2ms/step - loss: 235.6159 - accuracy: 0.6733 - val_loss: 86.6038 - val_accuracy: 0.5670\n",
            "Epoch 10/20\n",
            "250/250 [==============================] - 1s 3ms/step - loss: 151.2840 - accuracy: 0.6854 - val_loss: 210.7711 - val_accuracy: 0.6630\n",
            "Epoch 11/20\n",
            "250/250 [==============================] - 1s 3ms/step - loss: 170.5378 - accuracy: 0.6764 - val_loss: 278.0923 - val_accuracy: 0.8020\n",
            "Epoch 12/20\n",
            "250/250 [==============================] - 1s 3ms/step - loss: 183.2323 - accuracy: 0.6798 - val_loss: 76.2789 - val_accuracy: 0.8015\n",
            "Epoch 13/20\n",
            "250/250 [==============================] - 1s 3ms/step - loss: 204.2868 - accuracy: 0.6854 - val_loss: 334.0391 - val_accuracy: 0.8015\n",
            "Epoch 14/20\n",
            "250/250 [==============================] - 1s 3ms/step - loss: 147.5587 - accuracy: 0.6779 - val_loss: 97.1201 - val_accuracy: 0.8020\n",
            "Epoch 15/20\n",
            "250/250 [==============================] - 1s 3ms/step - loss: 187.5098 - accuracy: 0.6735 - val_loss: 140.9425 - val_accuracy: 0.5485\n",
            "Epoch 16/20\n",
            "250/250 [==============================] - 1s 3ms/step - loss: 234.8090 - accuracy: 0.6793 - val_loss: 176.4712 - val_accuracy: 0.3880\n",
            "Epoch 17/20\n",
            "250/250 [==============================] - 1s 5ms/step - loss: 198.3868 - accuracy: 0.6804 - val_loss: 463.5860 - val_accuracy: 0.8020\n",
            "Epoch 18/20\n",
            "250/250 [==============================] - 1s 4ms/step - loss: 200.8921 - accuracy: 0.6775 - val_loss: 168.0675 - val_accuracy: 0.3200\n",
            "Epoch 19/20\n",
            "250/250 [==============================] - 1s 3ms/step - loss: 152.1763 - accuracy: 0.6829 - val_loss: 100.6201 - val_accuracy: 0.8020\n",
            "Epoch 20/20\n",
            "250/250 [==============================] - 1s 4ms/step - loss: 154.1509 - accuracy: 0.6795 - val_loss: 71.0766 - val_accuracy: 0.6260\n"
          ]
        }
      ]
    },
    {
      "cell_type": "markdown",
      "source": [
        "The history variable declared here saves all the model metric performances while training."
      ],
      "metadata": {
        "id": "dbqe-IaMOSeN"
      }
    },
    {
      "cell_type": "code",
      "source": [
        "# Plot the performance [Accuracy] of the model\n",
        "plt.plot(history.history['accuracy'])\n",
        "plt.plot(history.history['val_accuracy'])\n",
        "plt.title('Model Accuracy')\n",
        "plt.ylabel('Accuracy')\n",
        "plt.xlabel('Epoch')\n",
        "plt.legend(['Training', 'Validation'], loc = 'upper left')\n",
        "plt.show() "
      ],
      "metadata": {
        "colab": {
          "base_uri": "https://localhost:8080/",
          "height": 295
        },
        "id": "B0xoi6yrNt_c",
        "outputId": "ee6af7c7-4382-4943-9da6-c63bb3e372f7"
      },
      "execution_count": 12,
      "outputs": [
        {
          "output_type": "display_data",
          "data": {
            "text/plain": [
              "<Figure size 432x288 with 1 Axes>"
            ],
            "image/png": "[encoded data removed]"
          },
          "metadata": {
            "needs_background": "light"
          }
        }
      ]
    },
    {
      "cell_type": "markdown",
      "source": [
        "- Training accuracy is constant.\n",
        "- Validation accuracy is highly fluctuating.\n",
        "\n",
        "**NOTE**\n",
        "\n",
        "A well-trained model would have training and validation accuracy going gradually as the epochs progress. "
      ],
      "metadata": {
        "id": "n4FvLur_Px0b"
      }
    },
    {
      "cell_type": "code",
      "source": [
        "# Plot the Loss\n",
        "plt.plot(history.history['loss'])\n",
        "plt.plot(history.history['val_loss'])\n",
        "plt.title('Model Loss')\n",
        "plt.ylabel('Loss')\n",
        "plt.xlabel('Epoch')\n",
        "plt.legend(['Training', 'Validation'], loc = 'upper left')\n",
        "plt.show()"
      ],
      "metadata": {
        "colab": {
          "base_uri": "https://localhost:8080/",
          "height": 295
        },
        "id": "d7hH3op5PdEk",
        "outputId": "3ff17ea1-8069-40f2-c914-7916671a7888"
      },
      "execution_count": 13,
      "outputs": [
        {
          "output_type": "display_data",
          "data": {
            "text/plain": [
              "<Figure size 432x288 with 1 Axes>"
            ],
            "image/png": "[encoded data removed]"
          },
          "metadata": {
            "needs_background": "light"
          }
        }
      ]
    },
    {
      "cell_type": "markdown",
      "source": [
        "Training and validation loss are decreasing gradually."
      ],
      "metadata": {
        "id": "1Nlhx6XaQAnX"
      }
    },
    {
      "cell_type": "code",
      "source": [
        "# Make predictions\n",
        "predictions = np.round(model.predict(X_test))"
      ],
      "metadata": {
        "id": "eZORrci6Psd0"
      },
      "execution_count": 14,
      "outputs": []
    },
    {
      "cell_type": "code",
      "source": [
        "# Check accuracy\n",
        "accuracy_score(Y_test, predictions)"
      ],
      "metadata": {
        "colab": {
          "base_uri": "https://localhost:8080/"
        },
        "id": "c3PEgK8wQ78u",
        "outputId": "98d49768-0655-40b3-e25d-c900f3fe7e40"
      },
      "execution_count": 15,
      "outputs": [
        {
          "output_type": "execute_result",
          "data": {
            "text/plain": [
              "0.626"
            ]
          },
          "metadata": {},
          "execution_count": 15
        }
      ]
    },
    {
      "cell_type": "code",
      "source": [
        "# Confusion Matrix \n",
        "confusion_matrix(Y_test, predictions)"
      ],
      "metadata": {
        "colab": {
          "base_uri": "https://localhost:8080/"
        },
        "id": "Pi6xOE3xRR1z",
        "outputId": "1c35ea59-e660-4d17-9edc-383eb84e5f11"
      },
      "execution_count": 16,
      "outputs": [
        {
          "output_type": "execute_result",
          "data": {
            "text/plain": [
              "array([[1159,  445],\n",
              "       [ 303,   93]])"
            ]
          },
          "metadata": {},
          "execution_count": 16
        }
      ]
    },
    {
      "cell_type": "markdown",
      "source": [
        "- Actual 0 predicted 0 = 1159 (Correct Prediction of class 0)\n",
        "- Actual 0 predicted 1 = 445 (False Prediction of class 0)\n",
        "- Actual 1 predicted 0 = 303 (False Prediction of class 1)\n",
        "- Actual 1 predicted 1 = 93 (Correct Prediction of class 1)"
      ],
      "metadata": {
        "id": "mEjc4fXLRnGc"
      }
    },
    {
      "cell_type": "markdown",
      "source": [
        "### Improve the model by using Dropout and Batch Normalization"
      ],
      "metadata": {
        "id": "WM_JHKSDTI__"
      }
    },
    {
      "cell_type": "markdown",
      "source": [
        "- To handle imbalanced data, apply class weights (give higher weight to less frequent classes, so that the model gets highly penalized when it makes mistakes in predicting less frequent classes).\n",
        "- Increase the complexity of the model by adding more layers and more neurons per layers.\n",
        "- Add batch normalization layer in front of dense layers, this ensures there is a well normalized batch being processed by every layer.\n",
        "- Add dropout after every layer, this would help individual neurons to learn more from gradients that are being back propagated.\n"
      ],
      "metadata": {
        "id": "QLEPLRJ5TajE"
      }
    },
    {
      "cell_type": "markdown",
      "source": [
        "NOTE: \n",
        "\n",
        "To calculate class weights, we have compute_class_weights function from sklearn utils. It takes in 3 parameters. class_weight must be balanced as we are trying to find weight that will balance the label classes, classes are the unique class values. y is  the labels data\n",
        "\n",
        "compute_class_weights function will return a list of weights.\n",
        "\n",
        "As tensorflow fit function takes class weights as dictionary, we will convert this list output into a dictionary."
      ],
      "metadata": {
        "id": "dbxJqKeUBfeZ"
      }
    },
    {
      "cell_type": "markdown",
      "source": [
        "**Build model with improvement:**"
      ],
      "metadata": {
        "id": "lARh8FopCpaD"
      }
    },
    {
      "cell_type": "markdown",
      "source": [
        "Enumerate() method adds a counter to an iterable and returns it in a form of enumerating object. This enumerated object can then be used directly for loops or converted into a list of tuples using the list() method."
      ],
      "metadata": {
        "id": "kR3d-O2yEF07"
      }
    },
    {
      "cell_type": "code",
      "source": [
        "# Add class weights when data is imbalanced\n",
        "from sklearn.utils import compute_class_weight\n",
        "class_weights = compute_class_weight(class_weight = 'balanced', classes = np.unique(Y_train), y = Y_train)\n",
        "\n",
        "model_class_weights = {}\n",
        "for e, weight in enumerate(class_weights):\n",
        "  model_class_weights[e] = weight"
      ],
      "metadata": {
        "id": "IUMC3RvGRh0g"
      },
      "execution_count": 17,
      "outputs": []
    },
    {
      "cell_type": "code",
      "source": [
        "# Final weights per class\n",
        "model_class_weights"
      ],
      "metadata": {
        "colab": {
          "base_uri": "https://localhost:8080/"
        },
        "id": "mImWPgdMESsg",
        "outputId": "8f5782f7-923e-481f-b3fc-b39f7a6d549a"
      },
      "execution_count": 18,
      "outputs": [
        {
          "output_type": "execute_result",
          "data": {
            "text/plain": [
              "{0: 0.6290297216543481, 1: 2.437538086532602}"
            ]
          },
          "metadata": {},
          "execution_count": 18
        }
      ]
    },
    {
      "cell_type": "markdown",
      "source": [
        "Higher weight for class 1 as it is the less frequent label."
      ],
      "metadata": {
        "id": "kMzwQEZyHMPw"
      }
    },
    {
      "cell_type": "code",
      "source": [
        "# Add in Class Weights to handle imbalance\n",
        "# Increase Units in Dense Layers and also increase number of layers\n",
        "# Add Batch Normalization to layers\n",
        "# Add dropout after Layers\n",
        "\n",
        "# Sequential layer (to connect all the layers sequentially)\n",
        "Model = tf.keras.models.Sequential()\n",
        "\n",
        "# Input layer\n",
        "Model.add(tf.keras.Input(shape=(10,)))\n",
        "\n",
        "# Add Batch Normalization to 1st hidden layer\n",
        "Model.add(tf.keras.layers.BatchNormalization())\n",
        "Model.add(tf.keras.layers.Dense(128, activation = 'relu'))\n",
        "Model.add(tf.keras.layers.Dropout(0.2))                     # Dropout layer of 1st hidden layer\n",
        "\n",
        "# Add Batch Normalization to 2nd hidden layer\n",
        "Model.add(tf.keras.layers.BatchNormalization())\n",
        "Model.add(tf.keras.layers.Dense(64, activation = 'relu'))\n",
        "Model.add(tf.keras.layers.Dropout(0.2))                     # Dropout layer of 2nd hidden layer\n",
        "\n",
        "# Add Batch Normalization to 3rd hidden layer\n",
        "Model.add(tf.keras.layers.BatchNormalization())\n",
        "Model.add(tf.keras.layers.Dense(32, activation = 'relu'))\n",
        "\n",
        "# Output layer\n",
        "Model.add(tf.keras.layers.Dense(1, activation = 'sigmoid'))\n",
        "\n",
        "# Print model summary\n",
        "Model.summary()"
      ],
      "metadata": {
        "colab": {
          "base_uri": "https://localhost:8080/"
        },
        "id": "vKjBD80sG4q_",
        "outputId": "76f739b7-9040-4320-b70f-85b935266645"
      },
      "execution_count": 19,
      "outputs": [
        {
          "output_type": "stream",
          "name": "stdout",
          "text": [
            "Model: \"sequential_1\"\n",
            "_________________________________________________________________\n",
            " Layer (type)                Output Shape              Param #   \n",
            "=================================================================\n",
            " batch_normalization (BatchN  (None, 10)               40        \n",
            " ormalization)                                                   \n",
            "                                                                 \n",
            " dense_3 (Dense)             (None, 128)               1408      \n",
            "                                                                 \n",
            " dropout (Dropout)           (None, 128)               0         \n",
            "                                                                 \n",
            " batch_normalization_1 (Batc  (None, 128)              512       \n",
            " hNormalization)                                                 \n",
            "                                                                 \n",
            " dense_4 (Dense)             (None, 64)                8256      \n",
            "                                                                 \n",
            " dropout_1 (Dropout)         (None, 64)                0         \n",
            "                                                                 \n",
            " batch_normalization_2 (Batc  (None, 64)               256       \n",
            " hNormalization)                                                 \n",
            "                                                                 \n",
            " dense_5 (Dense)             (None, 32)                2080      \n",
            "                                                                 \n",
            " dense_6 (Dense)             (None, 1)                 33        \n",
            "                                                                 \n",
            "=================================================================\n",
            "Total params: 12,585\n",
            "Trainable params: 12,181\n",
            "Non-trainable params: 404\n",
            "_________________________________________________________________\n"
          ]
        }
      ]
    },
    {
      "cell_type": "markdown",
      "source": [
        "The model has significantly high trainable parameters than the previous model, which has 1,441 trainable parameter."
      ],
      "metadata": {
        "id": "RyObuni-K6VF"
      }
    },
    {
      "cell_type": "code",
      "source": [
        "# Optimize and compile the model\n",
        "optimizer = tf.keras.optimizers.Adam(learning_rate = 0.001)\n",
        "Model.compile(optimizer, loss = 'binary_crossentropy', metrics = ['accuracy'])"
      ],
      "metadata": {
        "id": "hfLjYOI1KqW-"
      },
      "execution_count": 20,
      "outputs": []
    },
    {
      "cell_type": "code",
      "source": [
        "# Train the model\n",
        "History = Model.fit(X_train, Y_train, validation_data = (X_test, Y_test), epochs = 20, class_weight = model_class_weights)"
      ],
      "metadata": {
        "colab": {
          "base_uri": "https://localhost:8080/"
        },
        "id": "AueGqqZzLqrs",
        "outputId": "afe2ebdd-b0fb-4f01-a1da-c98405fc62c7"
      },
      "execution_count": 21,
      "outputs": [
        {
          "output_type": "stream",
          "name": "stdout",
          "text": [
            "Epoch 1/20\n",
            "250/250 [==============================] - 3s 6ms/step - loss: 0.6043 - accuracy: 0.6484 - val_loss: 0.4965 - val_accuracy: 0.7740\n",
            "Epoch 2/20\n",
            "250/250 [==============================] - 1s 5ms/step - loss: 0.5408 - accuracy: 0.7203 - val_loss: 0.4681 - val_accuracy: 0.7930\n",
            "Epoch 3/20\n",
            "250/250 [==============================] - 1s 5ms/step - loss: 0.5154 - accuracy: 0.7386 - val_loss: 0.4666 - val_accuracy: 0.7720\n",
            "Epoch 4/20\n",
            "250/250 [==============================] - 1s 3ms/step - loss: 0.5169 - accuracy: 0.7366 - val_loss: 0.4678 - val_accuracy: 0.7665\n",
            "Epoch 5/20\n",
            "250/250 [==============================] - 1s 2ms/step - loss: 0.5030 - accuracy: 0.7495 - val_loss: 0.4500 - val_accuracy: 0.7955\n",
            "Epoch 6/20\n",
            "250/250 [==============================] - 1s 2ms/step - loss: 0.5019 - accuracy: 0.7525 - val_loss: 0.4258 - val_accuracy: 0.8125\n",
            "Epoch 7/20\n",
            "250/250 [==============================] - 0s 2ms/step - loss: 0.4900 - accuracy: 0.7577 - val_loss: 0.4304 - val_accuracy: 0.8135\n",
            "Epoch 8/20\n",
            "250/250 [==============================] - 1s 2ms/step - loss: 0.4878 - accuracy: 0.7704 - val_loss: 0.4487 - val_accuracy: 0.7975\n",
            "Epoch 9/20\n",
            "250/250 [==============================] - 1s 2ms/step - loss: 0.4887 - accuracy: 0.7601 - val_loss: 0.4349 - val_accuracy: 0.8075\n",
            "Epoch 10/20\n",
            "250/250 [==============================] - 1s 2ms/step - loss: 0.4841 - accuracy: 0.7674 - val_loss: 0.4430 - val_accuracy: 0.7910\n",
            "Epoch 11/20\n",
            "250/250 [==============================] - 1s 2ms/step - loss: 0.4823 - accuracy: 0.7669 - val_loss: 0.4722 - val_accuracy: 0.7700\n",
            "Epoch 12/20\n",
            "250/250 [==============================] - 1s 2ms/step - loss: 0.4811 - accuracy: 0.7660 - val_loss: 0.4272 - val_accuracy: 0.8140\n",
            "Epoch 13/20\n",
            "250/250 [==============================] - 1s 2ms/step - loss: 0.4826 - accuracy: 0.7691 - val_loss: 0.4414 - val_accuracy: 0.7975\n",
            "Epoch 14/20\n",
            "250/250 [==============================] - 1s 2ms/step - loss: 0.4782 - accuracy: 0.7666 - val_loss: 0.4442 - val_accuracy: 0.8050\n",
            "Epoch 15/20\n",
            "250/250 [==============================] - 1s 2ms/step - loss: 0.4732 - accuracy: 0.7734 - val_loss: 0.4592 - val_accuracy: 0.7835\n",
            "Epoch 16/20\n",
            "250/250 [==============================] - 1s 2ms/step - loss: 0.4729 - accuracy: 0.7705 - val_loss: 0.4302 - val_accuracy: 0.8125\n",
            "Epoch 17/20\n",
            "250/250 [==============================] - 1s 3ms/step - loss: 0.4798 - accuracy: 0.7720 - val_loss: 0.4456 - val_accuracy: 0.8020\n",
            "Epoch 18/20\n",
            "250/250 [==============================] - 1s 2ms/step - loss: 0.4697 - accuracy: 0.7684 - val_loss: 0.4355 - val_accuracy: 0.8150\n",
            "Epoch 19/20\n",
            "250/250 [==============================] - 1s 2ms/step - loss: 0.4760 - accuracy: 0.7746 - val_loss: 0.4427 - val_accuracy: 0.8075\n",
            "Epoch 20/20\n",
            "250/250 [==============================] - 1s 2ms/step - loss: 0.4727 - accuracy: 0.7799 - val_loss: 0.4340 - val_accuracy: 0.8160\n"
          ]
        }
      ]
    },
    {
      "cell_type": "code",
      "source": [
        "# Plot the performance [Accuracy] of the model\n",
        "plt.plot(History.history['accuracy'])\n",
        "plt.plot(History.history['val_accuracy'])\n",
        "plt.title('Model Accuracy')\n",
        "plt.ylabel('Accuracy')\n",
        "plt.xlabel('Epoch')\n",
        "plt.legend(['Training', 'Validation'], loc = 'upper left')\n",
        "plt.show() "
      ],
      "metadata": {
        "colab": {
          "base_uri": "https://localhost:8080/",
          "height": 295
        },
        "id": "PUF5c1z3MD72",
        "outputId": "cadc973b-4e6d-4f05-ed48-31f0432d6569"
      },
      "execution_count": 22,
      "outputs": [
        {
          "output_type": "display_data",
          "data": {
            "text/plain": [
              "<Figure size 432x288 with 1 Axes>"
            ],
            "image/png": "[encoded data removed]"
          },
          "metadata": {
            "needs_background": "light"
          }
        }
      ]
    },
    {
      "cell_type": "markdown",
      "source": [
        "Model's training and validation accuracy is increasing gradually."
      ],
      "metadata": {
        "id": "UFxpZgqNNBP5"
      }
    },
    {
      "cell_type": "code",
      "source": [
        "# Plot the Loss\n",
        "plt.plot(History.history['loss'])\n",
        "plt.plot(History.history['val_loss'])\n",
        "plt.title('Model Loss')\n",
        "plt.ylabel('Loss')\n",
        "plt.xlabel('Epoch')\n",
        "plt.legend(['Training', 'Validation'], loc = 'upper left')\n",
        "plt.show()"
      ],
      "metadata": {
        "colab": {
          "base_uri": "https://localhost:8080/",
          "height": 295
        },
        "id": "REtLGgv0Me7J",
        "outputId": "c8c1a5de-10f8-4fb0-e6e3-ca54a3be61e6"
      },
      "execution_count": 23,
      "outputs": [
        {
          "output_type": "display_data",
          "data": {
            "text/plain": [
              "<Figure size 432x288 with 1 Axes>"
            ],
            "image/png": "[encoded data removed]"
          },
          "metadata": {
            "needs_background": "light"
          }
        }
      ]
    },
    {
      "cell_type": "markdown",
      "source": [
        "Model's training and validation loss is decreasing gradually."
      ],
      "metadata": {
        "id": "L_E3qhd8NKVd"
      }
    },
    {
      "cell_type": "code",
      "source": [
        "# Make predictions\n",
        "Predictions = np.round(Model.predict(X_test))"
      ],
      "metadata": {
        "id": "JOa_4cTpM_cn"
      },
      "execution_count": 24,
      "outputs": []
    },
    {
      "cell_type": "code",
      "source": [
        "# Check accuracy\n",
        "accuracy_score(Y_test, Predictions)"
      ],
      "metadata": {
        "colab": {
          "base_uri": "https://localhost:8080/"
        },
        "id": "LVuz-KmlOFB3",
        "outputId": "2ef1f950-1028-4c18-f2e4-2be071e1c8c5"
      },
      "execution_count": 25,
      "outputs": [
        {
          "output_type": "execute_result",
          "data": {
            "text/plain": [
              "0.816"
            ]
          },
          "metadata": {},
          "execution_count": 25
        }
      ]
    },
    {
      "cell_type": "markdown",
      "source": [
        "The accuracy is better than the previous model."
      ],
      "metadata": {
        "id": "EcLp_4NqOazp"
      }
    },
    {
      "cell_type": "code",
      "source": [
        "# Confusion Matrix\n",
        "confusion_matrix(Y_test, Predictions)"
      ],
      "metadata": {
        "colab": {
          "base_uri": "https://localhost:8080/"
        },
        "id": "n0JaxdlyOLf2",
        "outputId": "5ec73681-4872-43a8-9c3f-88e370e9ccd0"
      },
      "execution_count": 26,
      "outputs": [
        {
          "output_type": "execute_result",
          "data": {
            "text/plain": [
              "array([[1321,  283],\n",
              "       [  85,  311]])"
            ]
          },
          "metadata": {},
          "execution_count": 26
        }
      ]
    },
    {
      "cell_type": "markdown",
      "source": [
        "The model is predicting class 1 better than the previous model."
      ],
      "metadata": {
        "id": "qUzoRL-VOjgU"
      }
    }
  ]
}